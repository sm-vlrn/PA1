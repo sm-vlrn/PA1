{
 "cells": [
  {
   "cell_type": "markdown",
   "id": "f1cdfeb0-1049-407c-8065-311dd037e7f5",
   "metadata": {},
   "source": [
    "### A. ALPHABET SOUP PROBLEM"
   ]
  },
  {
   "cell_type": "code",
   "execution_count": 1,
   "id": "282e5075-2444-4ec9-9b3b-ed3bb0180e97",
   "metadata": {},
   "outputs": [
    {
     "name": "stdin",
     "output_type": "stream",
     "text": [
      "Enter a word:  hello\n"
     ]
    },
    {
     "data": {
      "text/plain": [
       "['e', 'h', 'l', 'l', 'o']"
      ]
     },
     "execution_count": 1,
     "metadata": {},
     "output_type": "execute_result"
    }
   ],
   "source": [
    "#ASK THE USER TO ENTER A WORD\n",
    "alphabet_soup = input(\"Enter a word: \")\n",
    "#CONVERT THE WORD INTO A LIST\n",
    "word = list(alphabet_soup)\n",
    "#SORT THE WORD ALPHABETICALLY\n",
    "word.sort()\n",
    "word"
   ]
  },
  {
   "cell_type": "markdown",
   "id": "c7da83f5-8fe0-4766-a3fe-f4507a536bf3",
   "metadata": {},
   "source": [
    "### B. EMOTICON PROBLEM"
   ]
  },
  {
   "cell_type": "code",
   "execution_count": 2,
   "id": "4d6123c1-c950-454a-b1fb-b0ec67468639",
   "metadata": {},
   "outputs": [
    {
     "name": "stdin",
     "output_type": "stream",
     "text": [
      "Enter a sentence:  i am sad\n"
     ]
    },
    {
     "name": "stdout",
     "output_type": "stream",
     "text": [
      "i am :(\n"
     ]
    }
   ],
   "source": [
    "#ASK THE USER TO ENTER A SENTENCE\n",
    "sentence = input(\"Enter a sentence: \")\n",
    "#DICTIONARY OF WORDS TO EMOTICONS\n",
    "emoticons = { \"smile\": \":)\", \"grin\": \":D\", \"sad\": \":(\", \"mad\": \">:(\"}\n",
    "# REPLACE WORDS WITH EMOTICONS\n",
    "for word in emoticons:\n",
    "    sentence = sentence.replace(word, emoticons[word])\n",
    "print(sentence)"
   ]
  },
  {
   "cell_type": "markdown",
   "id": "9a34b388-9284-4e89-89e0-15a3ee5fd32e",
   "metadata": {},
   "source": [
    "### C. UNPACKING LIST PROBLEM"
   ]
  },
  {
   "cell_type": "code",
   "execution_count": 7,
   "id": "b8ccd506-ddbd-460d-ba3b-a7b579a96e0f",
   "metadata": {},
   "outputs": [
    {
     "name": "stdout",
     "output_type": "stream",
     "text": [
      "first: 1 middle: [2, 3, 4, 5] last: 6\n"
     ]
    }
   ],
   "source": [
    "# EXAMPLE LIST\n",
    "lst = [1, 2, 3, 4, 5, 6]\n",
    "#UNPACK INTO FIRST, MIDDLE AND LAST\n",
    "first, *middle, last = lst\n",
    "print(\"first:\", first, \"middle:\", middle, \"last:\", last)"
   ]
  }
 ],
 "metadata": {
  "kernelspec": {
   "display_name": "Python 3 (ipykernel)",
   "language": "python",
   "name": "python3"
  },
  "language_info": {
   "codemirror_mode": {
    "name": "ipython",
    "version": 3
   },
   "file_extension": ".py",
   "mimetype": "text/x-python",
   "name": "python",
   "nbconvert_exporter": "python",
   "pygments_lexer": "ipython3",
   "version": "3.13.5"
  }
 },
 "nbformat": 4,
 "nbformat_minor": 5
}
